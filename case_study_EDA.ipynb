{
 "cells": [
  {
   "cell_type": "markdown",
   "id": "30ea3189",
   "metadata": {},
   "source": [
    "# Case Study EDA"
   ]
  },
  {
   "cell_type": "markdown",
   "id": "eedd4a9d",
   "metadata": {},
   "source": [
    "### first steps\n",
    "\n",
    "create dataframe, standardize columns and values\n"
   ]
  },
  {
   "cell_type": "code",
   "execution_count": 5,
   "id": "937ed60f",
   "metadata": {},
   "outputs": [
    {
     "name": "stdout",
     "output_type": "stream",
     "text": [
      "        date  sessions  bounce_rate  conversion_rate traffic_source  \\\n",
      "0 2025-04-01     246.0     0.564769         0.080461    Paid Search   \n",
      "1 2025-04-02     474.0     0.657921         0.065349       Referral   \n",
      "2 2025-04-03     524.0     0.453658         0.040685   Social Media   \n",
      "3 2025-04-04     487.0     0.327508         0.038754    Paid Search   \n",
      "4 2025-04-05     507.0     0.409198         0.021754       Referral   \n",
      "\n",
      "      campaign  \n",
      "0  Spring Sale  \n",
      "1  Spring Sale  \n",
      "2  Spring Sale  \n",
      "3  Spring Sale  \n",
      "4  Spring Sale  \n",
      "Index(['date', 'sessions', 'bounce_rate', 'conversion_rate', 'traffic_source',\n",
      "       'campaign'],\n",
      "      dtype='object')\n",
      "date               datetime64[ns]\n",
      "sessions                  float64\n",
      "bounce_rate               float64\n",
      "conversion_rate           float64\n",
      "traffic_source             object\n",
      "campaign                   object\n",
      "dtype: object\n",
      "date               14\n",
      "sessions           14\n",
      "bounce_rate        14\n",
      "conversion_rate    14\n",
      "traffic_source     14\n",
      "campaign           14\n",
      "dtype: int64\n"
     ]
    }
   ],
   "source": [
    "import pandas as pd\n",
    "import datetime as dt\n",
    "\n",
    "df = pd.read_csv('website_traffic_data.csv')\n",
    "df.columns = [c.lower().strip().replace(' ','_').replace('-','_') for c in df.columns]\n",
    "df['date'] = pd.to_datetime(df['date'], errors='coerce')\n",
    "for col in ['bounce_rate','conversion_rate']:\n",
    "    if df[col].dropna().between(1,100).mean() > 0.9: df[col] = df[col]/100\n",
    "\n",
    "print(df.head())\n",
    "print(df.columns)\n",
    "print(df.dtypes)\n",
    "print(df.isna().sum())"
   ]
  },
  {
   "cell_type": "markdown",
   "id": "15f23f53",
   "metadata": {},
   "source": [
    "### feature engineering"
   ]
  },
  {
   "cell_type": "code",
   "execution_count": 6,
   "id": "9bf9a305",
   "metadata": {},
   "outputs": [
    {
     "ename": "AttributeError",
     "evalue": "'NaTType' object has no attribute 'start_time'",
     "output_type": "error",
     "traceback": [
      "\u001b[31m---------------------------------------------------------------------------\u001b[39m",
      "\u001b[31mAttributeError\u001b[39m                            Traceback (most recent call last)",
      "\u001b[36mCell\u001b[39m\u001b[36m \u001b[39m\u001b[32mIn[6]\u001b[39m\u001b[32m, line 3\u001b[39m\n\u001b[32m      1\u001b[39m df[\u001b[33m'\u001b[39m\u001b[33mconversions\u001b[39m\u001b[33m'\u001b[39m] = (pd.to_numeric(df[\u001b[33m'\u001b[39m\u001b[33msessions\u001b[39m\u001b[33m'\u001b[39m], errors=\u001b[33m'\u001b[39m\u001b[33mcoerce\u001b[39m\u001b[33m'\u001b[39m) *\n\u001b[32m      2\u001b[39m                      pd.to_numeric(df[\u001b[33m'\u001b[39m\u001b[33mconversion_rate\u001b[39m\u001b[33m'\u001b[39m], errors=\u001b[33m'\u001b[39m\u001b[33mcoerce\u001b[39m\u001b[33m'\u001b[39m))\n\u001b[32m----> \u001b[39m\u001b[32m3\u001b[39m df[\u001b[33m'\u001b[39m\u001b[33mweek\u001b[39m\u001b[33m'\u001b[39m] = \u001b[43mdf\u001b[49m\u001b[43m[\u001b[49m\u001b[33;43m'\u001b[39;49m\u001b[33;43mdate\u001b[39;49m\u001b[33;43m'\u001b[39;49m\u001b[43m]\u001b[49m\u001b[43m.\u001b[49m\u001b[43mdt\u001b[49m\u001b[43m.\u001b[49m\u001b[43mto_period\u001b[49m\u001b[43m(\u001b[49m\u001b[33;43m'\u001b[39;49m\u001b[33;43mW\u001b[39;49m\u001b[33;43m'\u001b[39;49m\u001b[43m)\u001b[49m\u001b[43m.\u001b[49m\u001b[43mapply\u001b[49m\u001b[43m(\u001b[49m\u001b[38;5;28;43;01mlambda\u001b[39;49;00m\u001b[43m \u001b[49m\u001b[43mp\u001b[49m\u001b[43m:\u001b[49m\u001b[43m \u001b[49m\u001b[43mp\u001b[49m\u001b[43m.\u001b[49m\u001b[43mstart_time\u001b[49m\u001b[43m)\u001b[49m\n\u001b[32m      4\u001b[39m df[\u001b[33m'\u001b[39m\u001b[33mmonth\u001b[39m\u001b[33m'\u001b[39m] = df[\u001b[33m'\u001b[39m\u001b[33mdate\u001b[39m\u001b[33m'\u001b[39m].dt.to_period(\u001b[33m'\u001b[39m\u001b[33mM\u001b[39m\u001b[33m'\u001b[39m).astype(\u001b[38;5;28mstr\u001b[39m)\n\u001b[32m      5\u001b[39m df[\u001b[33m'\u001b[39m\u001b[33mcampaign_flag\u001b[39m\u001b[33m'\u001b[39m] = (~df[\u001b[33m'\u001b[39m\u001b[33mcampaign\u001b[39m\u001b[33m'\u001b[39m].isna()) & (df[\u001b[33m'\u001b[39m\u001b[33mcampaign\u001b[39m\u001b[33m'\u001b[39m].str.lower().str.strip().ne(\u001b[33m\"\u001b[39m\u001b[33m(none)\u001b[39m\u001b[33m\"\u001b[39m)) & (df[\u001b[33m'\u001b[39m\u001b[33mcampaign\u001b[39m\u001b[33m'\u001b[39m].str.strip().ne(\u001b[33m\"\u001b[39m\u001b[33m\"\u001b[39m))\n",
      "\u001b[36mFile \u001b[39m\u001b[32m~/Desktop/USAA/usaa/lib/python3.13/site-packages/pandas/core/series.py:4943\u001b[39m, in \u001b[36mSeries.apply\u001b[39m\u001b[34m(self, func, convert_dtype, args, by_row, **kwargs)\u001b[39m\n\u001b[32m   4808\u001b[39m \u001b[38;5;28;01mdef\u001b[39;00m\u001b[38;5;250m \u001b[39m\u001b[34mapply\u001b[39m(\n\u001b[32m   4809\u001b[39m     \u001b[38;5;28mself\u001b[39m,\n\u001b[32m   4810\u001b[39m     func: AggFuncType,\n\u001b[32m   (...)\u001b[39m\u001b[32m   4815\u001b[39m     **kwargs,\n\u001b[32m   4816\u001b[39m ) -> DataFrame | Series:\n\u001b[32m   4817\u001b[39m \u001b[38;5;250m    \u001b[39m\u001b[33;03m\"\"\"\u001b[39;00m\n\u001b[32m   4818\u001b[39m \u001b[33;03m    Invoke function on values of Series.\u001b[39;00m\n\u001b[32m   4819\u001b[39m \n\u001b[32m   (...)\u001b[39m\u001b[32m   4934\u001b[39m \u001b[33;03m    dtype: float64\u001b[39;00m\n\u001b[32m   4935\u001b[39m \u001b[33;03m    \"\"\"\u001b[39;00m\n\u001b[32m   4936\u001b[39m     \u001b[38;5;28;01mreturn\u001b[39;00m \u001b[43mSeriesApply\u001b[49m\u001b[43m(\u001b[49m\n\u001b[32m   4937\u001b[39m \u001b[43m        \u001b[49m\u001b[38;5;28;43mself\u001b[39;49m\u001b[43m,\u001b[49m\n\u001b[32m   4938\u001b[39m \u001b[43m        \u001b[49m\u001b[43mfunc\u001b[49m\u001b[43m,\u001b[49m\n\u001b[32m   4939\u001b[39m \u001b[43m        \u001b[49m\u001b[43mconvert_dtype\u001b[49m\u001b[43m=\u001b[49m\u001b[43mconvert_dtype\u001b[49m\u001b[43m,\u001b[49m\n\u001b[32m   4940\u001b[39m \u001b[43m        \u001b[49m\u001b[43mby_row\u001b[49m\u001b[43m=\u001b[49m\u001b[43mby_row\u001b[49m\u001b[43m,\u001b[49m\n\u001b[32m   4941\u001b[39m \u001b[43m        \u001b[49m\u001b[43margs\u001b[49m\u001b[43m=\u001b[49m\u001b[43margs\u001b[49m\u001b[43m,\u001b[49m\n\u001b[32m   4942\u001b[39m \u001b[43m        \u001b[49m\u001b[43mkwargs\u001b[49m\u001b[43m=\u001b[49m\u001b[43mkwargs\u001b[49m\u001b[43m,\u001b[49m\n\u001b[32m-> \u001b[39m\u001b[32m4943\u001b[39m \u001b[43m    \u001b[49m\u001b[43m)\u001b[49m\u001b[43m.\u001b[49m\u001b[43mapply\u001b[49m\u001b[43m(\u001b[49m\u001b[43m)\u001b[49m\n",
      "\u001b[36mFile \u001b[39m\u001b[32m~/Desktop/USAA/usaa/lib/python3.13/site-packages/pandas/core/apply.py:1422\u001b[39m, in \u001b[36mSeriesApply.apply\u001b[39m\u001b[34m(self)\u001b[39m\n\u001b[32m   1419\u001b[39m     \u001b[38;5;28;01mreturn\u001b[39;00m \u001b[38;5;28mself\u001b[39m.apply_compat()\n\u001b[32m   1421\u001b[39m \u001b[38;5;66;03m# self.func is Callable\u001b[39;00m\n\u001b[32m-> \u001b[39m\u001b[32m1422\u001b[39m \u001b[38;5;28;01mreturn\u001b[39;00m \u001b[38;5;28;43mself\u001b[39;49m\u001b[43m.\u001b[49m\u001b[43mapply_standard\u001b[49m\u001b[43m(\u001b[49m\u001b[43m)\u001b[49m\n",
      "\u001b[36mFile \u001b[39m\u001b[32m~/Desktop/USAA/usaa/lib/python3.13/site-packages/pandas/core/apply.py:1502\u001b[39m, in \u001b[36mSeriesApply.apply_standard\u001b[39m\u001b[34m(self)\u001b[39m\n\u001b[32m   1496\u001b[39m \u001b[38;5;66;03m# row-wise access\u001b[39;00m\n\u001b[32m   1497\u001b[39m \u001b[38;5;66;03m# apply doesn't have a `na_action` keyword and for backward compat reasons\u001b[39;00m\n\u001b[32m   1498\u001b[39m \u001b[38;5;66;03m# we need to give `na_action=\"ignore\"` for categorical data.\u001b[39;00m\n\u001b[32m   1499\u001b[39m \u001b[38;5;66;03m# TODO: remove the `na_action=\"ignore\"` when that default has been changed in\u001b[39;00m\n\u001b[32m   1500\u001b[39m \u001b[38;5;66;03m#  Categorical (GH51645).\u001b[39;00m\n\u001b[32m   1501\u001b[39m action = \u001b[33m\"\u001b[39m\u001b[33mignore\u001b[39m\u001b[33m\"\u001b[39m \u001b[38;5;28;01mif\u001b[39;00m \u001b[38;5;28misinstance\u001b[39m(obj.dtype, CategoricalDtype) \u001b[38;5;28;01melse\u001b[39;00m \u001b[38;5;28;01mNone\u001b[39;00m\n\u001b[32m-> \u001b[39m\u001b[32m1502\u001b[39m mapped = \u001b[43mobj\u001b[49m\u001b[43m.\u001b[49m\u001b[43m_map_values\u001b[49m\u001b[43m(\u001b[49m\n\u001b[32m   1503\u001b[39m \u001b[43m    \u001b[49m\u001b[43mmapper\u001b[49m\u001b[43m=\u001b[49m\u001b[43mcurried\u001b[49m\u001b[43m,\u001b[49m\u001b[43m \u001b[49m\u001b[43mna_action\u001b[49m\u001b[43m=\u001b[49m\u001b[43maction\u001b[49m\u001b[43m,\u001b[49m\u001b[43m \u001b[49m\u001b[43mconvert\u001b[49m\u001b[43m=\u001b[49m\u001b[38;5;28;43mself\u001b[39;49m\u001b[43m.\u001b[49m\u001b[43mconvert_dtype\u001b[49m\n\u001b[32m   1504\u001b[39m \u001b[43m\u001b[49m\u001b[43m)\u001b[49m\n\u001b[32m   1506\u001b[39m \u001b[38;5;28;01mif\u001b[39;00m \u001b[38;5;28mlen\u001b[39m(mapped) \u001b[38;5;129;01mand\u001b[39;00m \u001b[38;5;28misinstance\u001b[39m(mapped[\u001b[32m0\u001b[39m], ABCSeries):\n\u001b[32m   1507\u001b[39m     \u001b[38;5;66;03m# GH#43986 Need to do list(mapped) in order to get treated as nested\u001b[39;00m\n\u001b[32m   1508\u001b[39m     \u001b[38;5;66;03m#  See also GH#25959 regarding EA support\u001b[39;00m\n\u001b[32m   1509\u001b[39m     \u001b[38;5;28;01mreturn\u001b[39;00m obj._constructor_expanddim(\u001b[38;5;28mlist\u001b[39m(mapped), index=obj.index)\n",
      "\u001b[36mFile \u001b[39m\u001b[32m~/Desktop/USAA/usaa/lib/python3.13/site-packages/pandas/core/base.py:923\u001b[39m, in \u001b[36mIndexOpsMixin._map_values\u001b[39m\u001b[34m(self, mapper, na_action, convert)\u001b[39m\n\u001b[32m    920\u001b[39m arr = \u001b[38;5;28mself\u001b[39m._values\n\u001b[32m    922\u001b[39m \u001b[38;5;28;01mif\u001b[39;00m \u001b[38;5;28misinstance\u001b[39m(arr, ExtensionArray):\n\u001b[32m--> \u001b[39m\u001b[32m923\u001b[39m     \u001b[38;5;28;01mreturn\u001b[39;00m \u001b[43marr\u001b[49m\u001b[43m.\u001b[49m\u001b[43mmap\u001b[49m\u001b[43m(\u001b[49m\u001b[43mmapper\u001b[49m\u001b[43m,\u001b[49m\u001b[43m \u001b[49m\u001b[43mna_action\u001b[49m\u001b[43m=\u001b[49m\u001b[43mna_action\u001b[49m\u001b[43m)\u001b[49m\n\u001b[32m    925\u001b[39m \u001b[38;5;28;01mreturn\u001b[39;00m algorithms.map_array(arr, mapper, na_action=na_action, convert=convert)\n",
      "\u001b[36mFile \u001b[39m\u001b[32m~/Desktop/USAA/usaa/lib/python3.13/site-packages/pandas/core/arrays/_mixins.py:81\u001b[39m, in \u001b[36mravel_compat.<locals>.method\u001b[39m\u001b[34m(self, *args, **kwargs)\u001b[39m\n\u001b[32m     78\u001b[39m \u001b[38;5;129m@wraps\u001b[39m(meth)\n\u001b[32m     79\u001b[39m \u001b[38;5;28;01mdef\u001b[39;00m\u001b[38;5;250m \u001b[39m\u001b[34mmethod\u001b[39m(\u001b[38;5;28mself\u001b[39m, *args, **kwargs):\n\u001b[32m     80\u001b[39m     \u001b[38;5;28;01mif\u001b[39;00m \u001b[38;5;28mself\u001b[39m.ndim == \u001b[32m1\u001b[39m:\n\u001b[32m---> \u001b[39m\u001b[32m81\u001b[39m         \u001b[38;5;28;01mreturn\u001b[39;00m \u001b[43mmeth\u001b[49m\u001b[43m(\u001b[49m\u001b[38;5;28;43mself\u001b[39;49m\u001b[43m,\u001b[49m\u001b[43m \u001b[49m\u001b[43m*\u001b[49m\u001b[43margs\u001b[49m\u001b[43m,\u001b[49m\u001b[43m \u001b[49m\u001b[43m*\u001b[49m\u001b[43m*\u001b[49m\u001b[43mkwargs\u001b[49m\u001b[43m)\u001b[49m\n\u001b[32m     83\u001b[39m     flags = \u001b[38;5;28mself\u001b[39m._ndarray.flags\n\u001b[32m     84\u001b[39m     flat = \u001b[38;5;28mself\u001b[39m.ravel(\u001b[33m\"\u001b[39m\u001b[33mK\u001b[39m\u001b[33m\"\u001b[39m)\n",
      "\u001b[36mFile \u001b[39m\u001b[32m~/Desktop/USAA/usaa/lib/python3.13/site-packages/pandas/core/arrays/datetimelike.py:763\u001b[39m, in \u001b[36mDatetimeLikeArrayMixin.map\u001b[39m\u001b[34m(self, mapper, na_action)\u001b[39m\n\u001b[32m    759\u001b[39m \u001b[38;5;129m@ravel_compat\u001b[39m\n\u001b[32m    760\u001b[39m \u001b[38;5;28;01mdef\u001b[39;00m\u001b[38;5;250m \u001b[39m\u001b[34mmap\u001b[39m(\u001b[38;5;28mself\u001b[39m, mapper, na_action=\u001b[38;5;28;01mNone\u001b[39;00m):\n\u001b[32m    761\u001b[39m     \u001b[38;5;28;01mfrom\u001b[39;00m\u001b[38;5;250m \u001b[39m\u001b[34;01mpandas\u001b[39;00m\u001b[38;5;250m \u001b[39m\u001b[38;5;28;01mimport\u001b[39;00m Index\n\u001b[32m--> \u001b[39m\u001b[32m763\u001b[39m     result = \u001b[43mmap_array\u001b[49m\u001b[43m(\u001b[49m\u001b[38;5;28;43mself\u001b[39;49m\u001b[43m,\u001b[49m\u001b[43m \u001b[49m\u001b[43mmapper\u001b[49m\u001b[43m,\u001b[49m\u001b[43m \u001b[49m\u001b[43mna_action\u001b[49m\u001b[43m=\u001b[49m\u001b[43mna_action\u001b[49m\u001b[43m)\u001b[49m\n\u001b[32m    764\u001b[39m     result = Index(result)\n\u001b[32m    766\u001b[39m     \u001b[38;5;28;01mif\u001b[39;00m \u001b[38;5;28misinstance\u001b[39m(result, ABCMultiIndex):\n",
      "\u001b[36mFile \u001b[39m\u001b[32m~/Desktop/USAA/usaa/lib/python3.13/site-packages/pandas/core/algorithms.py:1743\u001b[39m, in \u001b[36mmap_array\u001b[39m\u001b[34m(arr, mapper, na_action, convert)\u001b[39m\n\u001b[32m   1741\u001b[39m values = arr.astype(\u001b[38;5;28mobject\u001b[39m, copy=\u001b[38;5;28;01mFalse\u001b[39;00m)\n\u001b[32m   1742\u001b[39m \u001b[38;5;28;01mif\u001b[39;00m na_action \u001b[38;5;129;01mis\u001b[39;00m \u001b[38;5;28;01mNone\u001b[39;00m:\n\u001b[32m-> \u001b[39m\u001b[32m1743\u001b[39m     \u001b[38;5;28;01mreturn\u001b[39;00m \u001b[43mlib\u001b[49m\u001b[43m.\u001b[49m\u001b[43mmap_infer\u001b[49m\u001b[43m(\u001b[49m\u001b[43mvalues\u001b[49m\u001b[43m,\u001b[49m\u001b[43m \u001b[49m\u001b[43mmapper\u001b[49m\u001b[43m,\u001b[49m\u001b[43m \u001b[49m\u001b[43mconvert\u001b[49m\u001b[43m=\u001b[49m\u001b[43mconvert\u001b[49m\u001b[43m)\u001b[49m\n\u001b[32m   1744\u001b[39m \u001b[38;5;28;01melse\u001b[39;00m:\n\u001b[32m   1745\u001b[39m     \u001b[38;5;28;01mreturn\u001b[39;00m lib.map_infer_mask(\n\u001b[32m   1746\u001b[39m         values, mapper, mask=isna(values).view(np.uint8), convert=convert\n\u001b[32m   1747\u001b[39m     )\n",
      "\u001b[36mFile \u001b[39m\u001b[32mpandas/_libs/lib.pyx:2999\u001b[39m, in \u001b[36mpandas._libs.lib.map_infer\u001b[39m\u001b[34m()\u001b[39m\n",
      "\u001b[36mCell\u001b[39m\u001b[36m \u001b[39m\u001b[32mIn[6]\u001b[39m\u001b[32m, line 3\u001b[39m, in \u001b[36m<lambda>\u001b[39m\u001b[34m(p)\u001b[39m\n\u001b[32m      1\u001b[39m df[\u001b[33m'\u001b[39m\u001b[33mconversions\u001b[39m\u001b[33m'\u001b[39m] = (pd.to_numeric(df[\u001b[33m'\u001b[39m\u001b[33msessions\u001b[39m\u001b[33m'\u001b[39m], errors=\u001b[33m'\u001b[39m\u001b[33mcoerce\u001b[39m\u001b[33m'\u001b[39m) *\n\u001b[32m      2\u001b[39m                      pd.to_numeric(df[\u001b[33m'\u001b[39m\u001b[33mconversion_rate\u001b[39m\u001b[33m'\u001b[39m], errors=\u001b[33m'\u001b[39m\u001b[33mcoerce\u001b[39m\u001b[33m'\u001b[39m))\n\u001b[32m----> \u001b[39m\u001b[32m3\u001b[39m df[\u001b[33m'\u001b[39m\u001b[33mweek\u001b[39m\u001b[33m'\u001b[39m] = df[\u001b[33m'\u001b[39m\u001b[33mdate\u001b[39m\u001b[33m'\u001b[39m].dt.to_period(\u001b[33m'\u001b[39m\u001b[33mW\u001b[39m\u001b[33m'\u001b[39m).apply(\u001b[38;5;28;01mlambda\u001b[39;00m p: \u001b[43mp\u001b[49m\u001b[43m.\u001b[49m\u001b[43mstart_time\u001b[49m)\n\u001b[32m      4\u001b[39m df[\u001b[33m'\u001b[39m\u001b[33mmonth\u001b[39m\u001b[33m'\u001b[39m] = df[\u001b[33m'\u001b[39m\u001b[33mdate\u001b[39m\u001b[33m'\u001b[39m].dt.to_period(\u001b[33m'\u001b[39m\u001b[33mM\u001b[39m\u001b[33m'\u001b[39m).astype(\u001b[38;5;28mstr\u001b[39m)\n\u001b[32m      5\u001b[39m df[\u001b[33m'\u001b[39m\u001b[33mcampaign_flag\u001b[39m\u001b[33m'\u001b[39m] = (~df[\u001b[33m'\u001b[39m\u001b[33mcampaign\u001b[39m\u001b[33m'\u001b[39m].isna()) & (df[\u001b[33m'\u001b[39m\u001b[33mcampaign\u001b[39m\u001b[33m'\u001b[39m].str.lower().str.strip().ne(\u001b[33m\"\u001b[39m\u001b[33m(none)\u001b[39m\u001b[33m\"\u001b[39m)) & (df[\u001b[33m'\u001b[39m\u001b[33mcampaign\u001b[39m\u001b[33m'\u001b[39m].str.strip().ne(\u001b[33m\"\u001b[39m\u001b[33m\"\u001b[39m))\n",
      "\u001b[31mAttributeError\u001b[39m: 'NaTType' object has no attribute 'start_time'"
     ]
    }
   ],
   "source": [
    "df['conversions'] = (pd.to_numeric(df['sessions'], errors='coerce') *\n",
    "                     pd.to_numeric(df['conversion_rate'], errors='coerce'))\n",
    "df['week'] = df['date'].dt.to_period('W').apply(lambda p: p.start_time)\n",
    "df['month'] = df['date'].dt.to_period('M').astype(str)\n",
    "df['campaign_flag'] = (~df['campaign'].isna()) & (df['campaign'].str.lower().str.strip().ne(\"(none)\")) & (df['campaign'].str.strip().ne(\"\"))\n",
    "df['is_weekend'] = df['date'].dt.weekday >= 5"
   ]
  },
  {
   "cell_type": "markdown",
   "id": "62bdb2da",
   "metadata": {},
   "source": [
    "### get basic metrics to keep track of\n",
    "calculate rolling means and sums"
   ]
  },
  {
   "cell_type": "code",
   "execution_count": null,
   "id": "b9a46d96",
   "metadata": {},
   "outputs": [],
   "source": [
    "daily = (df.dropna(subset=['date'])\n",
    "        .groupby('date', as_index=False)\n",
    "        .agg(session=('sessions', 'sum'),\n",
    "        conversions=('conversions', 'sum'),\n",
    "        bounce_rate=('bounce_rate', 'mean'),\n",
    "        conversion_rate=('conversion_rate', 'mean'))\n",
    "        .sort_values('date'))\n",
    "\n",
    "daily['session_7d'] = daily['sessions'].rolling(7, min_periods=3).mean()\n",
    "daily['bounce_rate_7d'] = daily['bounce_rate'].rolling(7, min_periods=3).mean()\n",
    "daily['conversion_rate_7d'] = daily['conversion_rate'].rolling(7, min_periods=3).mean()\n",
    "\n",
    "daily.head()"
   ]
  },
  {
   "cell_type": "markdown",
   "id": "24341f63",
   "metadata": {},
   "source": [
    "### source scorecard"
   ]
  },
  {
   "cell_type": "code",
   "execution_count": null,
   "id": "adc4384e",
   "metadata": {},
   "outputs": [],
   "source": [
    "by_src = (df.groupby('traffic_source', dropna=False)\n",
    "            .agg(sessions=(\"sessions\", \"sum\"),\n",
    "                 conversions=(\"conversions\", \"sum\"),\n",
    "                 bounce_rate=(\"bounce_rate\", \"mean\"),\n",
    "                 conversion_rate=(\"conversion_rate\", \"mean\"))\n",
    "            .reset_index())\n",
    "\n",
    "by_scr['traffic_share'] = by_src['sessions'] / by_src['sessions'].sum()\n",
    "by_src.sort_values(['conversion_rate', 'sessions'], ascending=[False, False], inplace=True)\n",
    "by_src"
   ]
  },
  {
   "cell_type": "markdown",
   "id": "58fd2b5c",
   "metadata": {},
   "source": [
    "### campaign scorecard"
   ]
  },
  {
   "cell_type": "code",
   "execution_count": null,
   "id": "d920149f",
   "metadata": {},
   "outputs": [],
   "source": [
    "by_campaign = (df.groupby('campaign', dropna=False)\n",
    "            .agg(sessions=(\"sessions\", \"sum\"),\n",
    "                 conversions=(\"conversions\", \"sum\"),\n",
    "                 bounce_rate=(\"bounce_rate\", \"mean\"),\n",
    "                 conversion_rate=(\"conversion_rate\", \"mean\"))\n",
    "            .reset_index()\n",
    "            .sort_values(['conversions', 'conversion_rate'], ascending=[False, False]))\n",
    "\n",
    "by_campaign"
   ]
  }
 ],
 "metadata": {
  "kernelspec": {
   "display_name": "usaa",
   "language": "python",
   "name": "python3"
  },
  "language_info": {
   "codemirror_mode": {
    "name": "ipython",
    "version": 3
   },
   "file_extension": ".py",
   "mimetype": "text/x-python",
   "name": "python",
   "nbconvert_exporter": "python",
   "pygments_lexer": "ipython3",
   "version": "3.13.7"
  }
 },
 "nbformat": 4,
 "nbformat_minor": 5
}
